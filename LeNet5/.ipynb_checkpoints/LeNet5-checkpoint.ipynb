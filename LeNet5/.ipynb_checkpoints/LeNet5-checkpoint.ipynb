{
 "cells": [
  {
   "cell_type": "code",
   "execution_count": 2,
   "id": "6bb85fdc",
   "metadata": {},
   "outputs": [],
   "source": [
    "import torch\n",
    "import torchvision\n",
    "import torchvision.transforms as transforms\n",
    "import torch.nn as nn\n",
    "import torch.optim as optim\n",
    "import matplotlib.pyplot as plt\n",
    "import numpy as np\n",
    "\n",
    "# Compose는 데이터를 적절히 변환한다. -> 여기서 적절히라는 것은 지금은 정답이 정해져있지만 벤치마크가 아닌 다른 데이터셋에선 경험적으로 혹은 데이터 분석을 해서 스스로 정의해야 할듯\n",
    "# Compose 함수에 다양한 변환 함수들 알아두기 -> 이번엔 Resize, ToTensor, Normalize 사용\n",
    "transform = transforms.Compose(\n",
    "    [transforms.Resize((32, 32)),  # 이미지 크기를 32x32로 조정\n",
    "     transforms.ToTensor(),  # 이미지를 PyTorch 텐서로 변환\n",
    "     transforms.Normalize((0.5, 0.5, 0.5), (0.5, 0.5, 0.5))])  # 채널별로 이미지 정규화\n",
    "\n",
    "# Normalize((0.5, 0.5, 0.5), (0.5, 0.5, 0.5)) 의미 -> RGB값이 0에서 1 사이로 표현되는데 이걸 -1 에서 1 사이로 표현하는 정규화\n",
    "# 즉, 평균을 0 주위롤 옮기고 같은 스케일(분산으로) 나눠줘서 -1부터 1까지 표현"
   ]
  },
  {
   "cell_type": "code",
   "execution_count": 3,
   "id": "e9e44b61",
   "metadata": {},
   "outputs": [
    {
     "name": "stdout",
     "output_type": "stream",
     "text": [
      "Files already downloaded and verified\n",
      "Files already downloaded and verified\n"
     ]
    }
   ],
   "source": [
    "# dataset가 존재하면 그대로 사용, 아니면 다운로드\n",
    "# CIFAR10 훈련 데이터 로드\n",
    "trainset = torchvision.datasets.CIFAR10(root = './data', train = True, download = True, transform = transform)\n",
    "trainloader = torch.utils.data.DataLoader(trainset, batch_size = 4, shuffle = True, num_workers = 2)\n",
    "\n",
    "# 테스트 데이터 로드\n",
    "testset = torchvision.datasets.CIFAR10(root = './data', train = False, download = True, transform = transform)\n",
    "testloader = torch.utils.data.DataLoader(testset, batch_size = 4, shuffle = True, num_workers = 2)"
   ]
  },
  {
   "cell_type": "code",
   "execution_count": 4,
   "id": "faeefbd3",
   "metadata": {},
   "outputs": [
    {
     "name": "stdout",
     "output_type": "stream",
     "text": [
      "Labels:  tensor([7, 0, 2, 1])\n",
      "Class Names:  ['horse', 'airplane', 'bird', 'automobile']\n"
     ]
    },
    {
     "data": {
      "image/png": "[encoded data removed]",
      "text/plain": [
       "<Figure size 640x480 with 1 Axes>"
      ]
     },
     "metadata": {},
     "output_type": "display_data"
    }
   ],
   "source": [
    "# 어떤 데이터인지 시각화 해보기\n",
    "# 데이터 배치 가져오기\n",
    "dataiter = iter(trainloader)\n",
    "# 첫번째 배치 사용\n",
    "images, labels = next(dataiter)\n",
    "\n",
    "# 이미지 시각화 함수\n",
    "def imshow(img):\n",
    "    img = img / 2 + 0.5     # unnormalize\n",
    "    npimg = img.numpy()\n",
    "    plt.imshow(np.transpose(npimg, (1, 2, 0)))\n",
    "    plt.show()\n",
    "\n",
    "# 이미지와 레이블 표시\n",
    "print('Labels: ', labels)\n",
    "print('Class Names: ', [trainset.classes[label] for label in labels])\n",
    "imshow(torchvision.utils.make_grid(images))"
   ]
  },
  {
   "cell_type": "code",
   "execution_count": 5,
   "id": "92829bc1",
   "metadata": {},
   "outputs": [
    {
     "data": {
      "text/plain": [
       "['airplane',\n",
       " 'automobile',\n",
       " 'bird',\n",
       " 'cat',\n",
       " 'deer',\n",
       " 'dog',\n",
       " 'frog',\n",
       " 'horse',\n",
       " 'ship',\n",
       " 'truck']"
      ]
     },
     "execution_count": 5,
     "metadata": {},
     "output_type": "execute_result"
    }
   ],
   "source": [
    "# 분류니까 어떤 클래스가 있는지 확인\n",
    "trainset.classes"
   ]
  },
  {
   "cell_type": "code",
   "execution_count": 6,
   "id": "239ea74a",
   "metadata": {},
   "outputs": [],
   "source": [
    "# 클래스 이름 튜플로 정의\n",
    "classes = ('airplane','automobile','bird','cat','deer','dog', 'frog', 'horse', 'ship', 'truck')"
   ]
  },
  {
   "cell_type": "code",
   "execution_count": 7,
   "id": "85dcea1f",
   "metadata": {},
   "outputs": [],
   "source": [
    "# LeNet5 구조 정의 -> 구조랑 원리는 따로 정리\n",
    "\n",
    "class LeNet5(nn.Module):\n",
    "    def __init__(self):\n",
    "        super(LeNet5, self).__init__() # nn.Module이 파이토치의 기본이면서 가장 중요함. 기능 상속\n",
    "        # 초기 RGB 채널 3, 6개의 채널로, 5X5 필터\n",
    "        # 32x32에 5짜리 필터 적용 -> 28x28 전환\n",
    "        self.conv1 = nn.Conv2d(3, 6, 5) \n",
    "        # 2x2 평균 풀링, 보통 맥스 풀링 사용하기도 함 -> 14x14 전환\n",
    "        self.pool = nn.AvgPool2d(2, 2) \n",
    "        # 이거는 논문에서는 선택 기준이 있던데, 알아서 해주는건지 확인, random일 확률이 높을듯\n",
    "        self.conv2 = nn.Conv2d(6, 16, 5)\n",
    "        self.fc1 = nn.Linear(16*5*5, 120) #120x1 차원 conv한 것을 완전 연결 계층으로 표현\n",
    "        self.fc2 = nn.Linear(120, 84)\n",
    "        self.fc3 = nn.Linear(84, 10) # 최종적으로 각 column이 클래스를 나타낼 수 있게 구성\n",
    "\n",
    "    def forward(self,x):\n",
    "        # 풀링, 활성화함수로 relu 활용\n",
    "        x = self.pool(torch.relu(self.conv1(x)))\n",
    "        x = self.pool(torch.relu(self.conv2(x)))\n",
    "        # 완전 연결 계층 전에 flatten하고 적용\n",
    "        x = torch.flatten(x,1)\n",
    "        x = torch.relu(self.fc1(x))\n",
    "        x = torch.relu(self.fc2(x))\n",
    "        x = self.fc3(x)\n",
    "        return x\n",
    "        \n",
    "# 객체 생성\n",
    "net = LeNet5()"
   ]
  },
  {
   "cell_type": "code",
   "execution_count": 8,
   "id": "23ce1a52",
   "metadata": {},
   "outputs": [],
   "source": [
    "# loss function이랑 optimizer\n",
    "\n",
    "criterion = nn.CrossEntropyLoss()\n",
    "\n",
    "# 확률적 경사하강법, momentum은 이전 변화량 어느정도 반영할지\n",
    "optimizer = optim.SGD(net.parameters(), lr=0.001,momentum=0.9)"
   ]
  },
  {
   "cell_type": "code",
   "execution_count": 12,
   "id": "51a9a8a0",
   "metadata": {},
   "outputs": [
    {
     "name": "stdout",
     "output_type": "stream",
     "text": [
      "[1,  2000] loss: 2.255\n",
      "[1,  4000] loss: 1.944\n",
      "[1,  6000] loss: 1.771\n",
      "[1,  8000] loss: 1.654\n",
      "[1, 10000] loss: 1.572\n",
      "[1, 12000] loss: 1.532\n",
      "[2,  2000] loss: 1.457\n",
      "[2,  4000] loss: 1.432\n",
      "[2,  6000] loss: 1.425\n",
      "[2,  8000] loss: 1.381\n",
      "[2, 10000] loss: 1.363\n",
      "[2, 12000] loss: 1.378\n"
     ]
    }
   ],
   "source": [
    "for epoch in range(2):\n",
    "    running_loss = 0\n",
    "    for i, data in enumerate(trainloader, 0):\n",
    "        # 입력 데이터\n",
    "        inputs, labels = data\n",
    "\n",
    "        # 매개변수 경사도를 0으로 설정\n",
    "        optimizer.zero_grad()\n",
    "\n",
    "        # 순전파 + 역전파 + 최적화\n",
    "        outputs = net(inputs)\n",
    "        loss = criterion(outputs, labels)\n",
    "        loss.backward()\n",
    "        optimizer.step()\n",
    "\n",
    "        # 통계 출력\n",
    "        running_loss += loss.item()\n",
    "        if i % 2000 == 1999:    # 매 2000 미니배치마다 출력, 한 배치당 이미지 4개씩, 50000개의 데이터 12500번\n",
    "            print(f'[{epoch + 1}, {i + 1:5d}] loss: {running_loss / 2000:.3f}')\n",
    "            running_loss = 0.0"
   ]
  },
  {
   "cell_type": "code",
   "execution_count": null,
   "id": "d172a73a",
   "metadata": {},
   "outputs": [],
   "source": [
    "# 테스트 데이터셋을 사용하여 네트워크의 성능 평가\n",
    "correct = 0  # 정확하게 예측된 데이터의 수를 세기 위한 변수 초기화\n",
    "total = 0  # 전체 테스트 데이터의 수를 카운트하기 위한 변수 초기화\n",
    "with torch.no_grad():  # 기울기 계산을 수행하지 않음\n",
    "    for data in testloader:  # 테스트 데이터 로더에서 데이터 배치를 반복해서 가져옴\n",
    "        images, labels = data  # 이미지와 레이블을 추출\n",
    "        outputs = net(images)  # 모델에 이미지를 입력하여 예측을 수행\n",
    "        _, predicted = torch.max(outputs.data, 1)  # 출력값 중 최대값을 가진 인덱스를 예측 결과로 선택\n",
    "        print(outputs.data)\n",
    "        break\n",
    "        total += labels.size(0)  # 이 배치의 레이블 개수를 전체 개수에 추가\n",
    "        correct += (predicted == labels).sum().item()  # 예측이 정확한 경우의 수를 세어 correct에 더함\n",
    "\n",
    "print(f'Accuracy of the network on the 10000 test images: {100 * correct / total:.2f}%')\n"
   ]
  }
 ],
 "metadata": {
  "kernelspec": {
   "display_name": "torch_kernel",
   "language": "python",
   "name": "torch_kernel"
  },
  "language_info": {
   "codemirror_mode": {
    "name": "ipython",
    "version": 3
   },
   "file_extension": ".py",
   "mimetype": "text/x-python",
   "name": "python",
   "nbconvert_exporter": "python",
   "pygments_lexer": "ipython3",
   "version": "3.12.3"
  }
 },
 "nbformat": 4,
 "nbformat_minor": 5
}
